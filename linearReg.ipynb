{
 "cells": [
  {
   "cell_type": "code",
   "execution_count": 3,
   "id": "3601b3b6",
   "metadata": {},
   "outputs": [
    {
     "data": {
      "text/plain": [
       "True"
      ]
     },
     "execution_count": 3,
     "metadata": {},
     "output_type": "execute_result"
    }
   ],
   "source": [
    "import os\n",
    "\n",
    "import matplotlib.pyplot as plt\n",
    "import numpy as np\n",
    "import pandas as pd\n",
    "from sqlalchemy import create_engine, text\n",
    "from dotenv import load_dotenv\n",
    "\n",
    "load_dotenv()"
   ]
  },
  {
   "cell_type": "code",
   "execution_count": 4,
   "id": "35518eab",
   "metadata": {},
   "outputs": [
    {
     "name": "stdout",
     "output_type": "stream",
     "text": [
      "      crim    zn  indus    nox     rm   age     dis  rad  tax  ptratio  \\\n",
      "0  0.00632  18.0   2.31  0.538  6.575  65.2  4.0900    1  296     15.3   \n",
      "1  0.02731   0.0   7.07  0.469  6.421  78.9  4.9671    2  242     17.8   \n",
      "2  0.02729   0.0   7.07  0.469  7.185  61.1  4.9671    2  242     17.8   \n",
      "3  0.03237   0.0   2.18  0.458  6.998  45.8  6.0622    3  222     18.7   \n",
      "4  0.06905   0.0   2.18  0.458  7.147  54.2  6.0622    3  222     18.7   \n",
      "\n",
      "        b  lstat  chas  \n",
      "0  396.90   4.98   0.0  \n",
      "1  396.90   9.14   0.0  \n",
      "2  392.83   4.03   0.0  \n",
      "3  394.63   2.94   0.0  \n",
      "4  396.90    NaN   0.0  \n"
     ]
    }
   ],
   "source": [
    "# Step 1: Load data\n",
    "\n",
    "db_url = (\n",
    "    f\"postgresql+psycopg2://{os.environ['DB_USERNAME']}:{os.environ['DB_PASSWORD']}@{os.environ['DB_LOCALHOST']}:{os.environ['DB_PORT']}/{os.environ['DB_NAME']}\"\n",
    ")\n",
    "engine = create_engine(db_url)\n",
    "df = pd.read_sql_query(\"SELECT * FROM housing\", con=engine)\n",
    "\n",
    "X: pd.DataFrame = df.drop(columns=[\"medv\", \"id\"])\n",
    "y: pd.Series = df[\"medv\"]\n",
    "\n",
    "print(X.iloc[:5])"
   ]
  },
  {
   "cell_type": "code",
   "execution_count": 5,
   "id": "1adc485d",
   "metadata": {},
   "outputs": [],
   "source": [
    "# Step 2: Split data into training and test data\n",
    "\n",
    "SPLIT_PORTION: float = 0.8\n",
    "split_point: int = int(len(df) * SPLIT_PORTION)\n",
    "\n",
    "X_train: np.ndarray = X.iloc[:split_point].to_numpy()\n",
    "X_test: np.ndarray = X.iloc[split_point:].to_numpy()\n",
    "y_train: np.ndarray = y.iloc[:split_point].to_numpy()\n",
    "y_test: np.ndarray = y.iloc[split_point:].to_numpy()\n",
    "\n",
    "X_train[np.isnan(X_train)] = 0\n",
    "X_test[np.isnan(X_test)] = 0"
   ]
  },
  {
   "cell_type": "code",
   "execution_count": 6,
   "id": "b6e584f0",
   "metadata": {},
   "outputs": [],
   "source": [
    "# Step 3: Cost function\n",
    "\n",
    "def my_mean_squared_error(predictions: np.ndarray, actual: np.ndarray) -> float:\n",
    "    return (1 / (2 * len(predictions))) * np.sum(np.square(predictions - actual))\n"
   ]
  },
  {
   "cell_type": "code",
   "execution_count": 7,
   "id": "865e6086",
   "metadata": {},
   "outputs": [],
   "source": [
    "# Step 4: Scale features using Z-score normalisation\n",
    "\n",
    "training_mean: list[float] = X_train.mean(axis=0)\n",
    "training_std: list[float] = X_train.std(axis=0)\n",
    "training_std[training_std == 0] = 1  # prevents dividing by 0\n",
    "\n",
    "X_train = (X_train - training_mean) / training_std\n",
    "X_test = (X_test - training_mean) / training_std\n"
   ]
  },
  {
   "cell_type": "code",
   "execution_count": 8,
   "id": "d72996da",
   "metadata": {},
   "outputs": [],
   "source": [
    "# Step 5: Gradient descent\n",
    "\n",
    "def gradient_descent(\n",
    "        w: np.ndarray, \n",
    "        b: float, \n",
    "        learning_rate: float, \n",
    "        X_train: np.ndarray, \n",
    "        y_train: np.ndarray,\n",
    "        regularisation_param: float = 0\n",
    "    ) -> tuple[np.ndarray, float, float]:\n",
    "    m: int = X_train.shape[0]  # num examples\n",
    "    \n",
    "    y_pred = np.dot(X_train, w) + b\n",
    "    loss = my_mean_squared_error(y_pred, y_train) + (regularisation_param / (2 * m)) * np.sum(np.square(w))\n",
    "    grad_w = (1 / m) * np.dot(y_pred - y_train, X_train)\n",
    "    grad_b = (1 / m) * np.sum(y_pred - y_train)\n",
    "    \n",
    "    new_w = w - learning_rate * grad_w\n",
    "    new_b = b - learning_rate * grad_b\n",
    "    \n",
    "    return new_w, new_b, loss"
   ]
  },
  {
   "cell_type": "code",
   "execution_count": 9,
   "id": "53fe0792",
   "metadata": {},
   "outputs": [
    {
     "name": "stdout",
     "output_type": "stream",
     "text": [
      "Iteration 0: 335.01047029702966\n",
      "Iteration 100: 53.61873663722581\n",
      "Iteration 200: 18.202762992625754\n",
      "Iteration 300: 13.358497272037319\n",
      "Iteration 400: 12.605715557713664\n",
      "Iteration 500: 12.430071630739\n",
      "Iteration 600: 12.35287695109311\n",
      "Iteration 700: 12.303597068885646\n",
      "Iteration 800: 12.268482873105784\n",
      "Iteration 900: 12.242748311699017\n",
      "Iteration 1000: 12.223696565285781\n",
      "Iteration 1100: 12.209511452501104\n",
      "Iteration 1200: 12.198908605441487\n",
      "Iteration 1300: 12.190963662864732\n",
      "Iteration 1400: 12.185004155851246\n",
      "Iteration 1500: 12.180536437018993\n",
      "Iteration 1600: 12.177195142006944\n",
      "Iteration 1700: 12.174707801712005\n",
      "Iteration 1800: 12.172869815373007\n",
      "Iteration 1900: 12.17152658544088\n",
      "Convergence reached after 1940 iterations\n"
     ]
    }
   ],
   "source": [
    "# Step 6: Run gradient descent with automatic convergence testing to get good values for w and b\n",
    "\n",
    "LEARNING_RATE: float = 0.01\n",
    "NUM_ITERS: int = 10_001\n",
    "EPSILON: float = 1e-5\n",
    "REGULARISATION_PARAM: float = 3\n",
    "\n",
    "w: np.ndarray = np.zeros(X.shape[1])\n",
    "b: float = 0\n",
    "\n",
    "results: list[tuple[int, float]] = []\n",
    "\n",
    "for i in range(NUM_ITERS):\n",
    "    w, b, loss = gradient_descent(w, b, LEARNING_RATE, X_train, y_train, REGULARISATION_PARAM)\n",
    "    results.append((i, loss))\n",
    "\n",
    "    if len(results) > 1 and abs(results[i-1][1] - loss) < EPSILON:\n",
    "        print(f\"Convergence reached after {i} iterations\")\n",
    "        break\n",
    "\n",
    "    if i % 100 == 0:\n",
    "        print(f\"Iteration {i}: {loss}\")\n"
   ]
  },
  {
   "cell_type": "code",
   "execution_count": 10,
   "id": "5c5e49c2",
   "metadata": {},
   "outputs": [
    {
     "data": {
      "text/plain": [
       "[<matplotlib.lines.Line2D at 0x2067b3b0740>]"
      ]
     },
     "execution_count": 10,
     "metadata": {},
     "output_type": "execute_result"
    },
    {
     "data": {
      "image/png": "[encoded data removed]",
      "text/plain": [
       "<Figure size 640x480 with 1 Axes>"
      ]
     },
     "metadata": {},
     "output_type": "display_data"
    }
   ],
   "source": [
    "# Step 7: Visualise the cost of each iteration of gradient descent\n",
    "\n",
    "x_vals, y_vals = zip(*results)\n",
    "plt.plot(x_vals, y_vals)"
   ]
  },
  {
   "cell_type": "code",
   "execution_count": 11,
   "id": "2ccc143b",
   "metadata": {},
   "outputs": [
    {
     "name": "stdout",
     "output_type": "stream",
     "text": [
      "Smallest Error: 0.007448707643568753\n",
      "Largest Error: 13.30817245864534\n",
      "Average Error: 4.788474250952781\n"
     ]
    }
   ],
   "source": [
    "# Step 8: Predict on training set\n",
    "\n",
    "y_test_pred = np.dot(X_test, w) + b\n",
    "abs_error = np.abs(y_test_pred - y_test)\n",
    "\n",
    "print(f\"Smallest Error: {min(abs_error)}\")\n",
    "print(f\"Largest Error: {max(abs_error)}\")\n",
    "print(f\"Average Error: {np.mean(abs_error)}\")"
   ]
  },
  {
   "cell_type": "code",
   "execution_count": 12,
   "id": "ac5b5e38",
   "metadata": {},
   "outputs": [],
   "source": [
    "# Step 9: Store weights and bias in db\n",
    "query = text(\"\"\"\n",
    "    INSERT INTO model_params (\n",
    "        weights, bias, learning_rate, num_iterations,\n",
    "        regularisation_param, convergence_limit,\n",
    "        training_mean, training_std\n",
    "    )\n",
    "    VALUES (:weights, :bias, :lr, :num_iters, :reg_param, :epsilon, :train_mean, :train_std)\n",
    "\"\"\")\n",
    "\n",
    "with engine.connect() as conn:\n",
    "    conn.execute(query, {\n",
    "        \"weights\": w.tolist(),\n",
    "        \"bias\": float(b),\n",
    "        \"lr\": float(LEARNING_RATE),\n",
    "        \"num_iters\": int(NUM_ITERS),\n",
    "        \"reg_param\": float(REGULARISATION_PARAM),\n",
    "        \"epsilon\": float(EPSILON),\n",
    "        \"train_mean\": list(training_mean),\n",
    "        \"train_std\": list(training_std),\n",
    "    })\n",
    "    conn.commit()"
   ]
  }
 ],
 "metadata": {
  "kernelspec": {
   "display_name": ".venv",
   "language": "python",
   "name": "python3"
  },
  "language_info": {
   "codemirror_mode": {
    "name": "ipython",
    "version": 3
   },
   "file_extension": ".py",
   "mimetype": "text/x-python",
   "name": "python",
   "nbconvert_exporter": "python",
   "pygments_lexer": "ipython3",
   "version": "3.12.10"
  }
 },
 "nbformat": 4,
 "nbformat_minor": 5
}
